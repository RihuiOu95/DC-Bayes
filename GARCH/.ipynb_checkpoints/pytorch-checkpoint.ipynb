{
 "cells": [
  {
   "cell_type": "code",
   "execution_count": null,
   "id": "46c28530",
   "metadata": {},
   "outputs": [],
   "source": [
    "import numpy as np\n",
    "import torch\n",
    "import torch.nn as nn\n",
    "import torch.optim as optim"
   ]
  },
  {
   "cell_type": "code",
   "execution_count": null,
   "id": "8e00230a",
   "metadata": {},
   "outputs": [],
   "source": [
    "class GARCH(nn.Module):\n",
    "    def __init__(self, p, q):\n",
    "        super(GARCH, self).__init__()\n",
    "        self.p = p\n",
    "        self.q = q\n",
    "        self.omega = nn.Parameter(torch.randn(1))\n",
    "        self.alpha = nn.Parameter(torch.randn(p))\n",
    "        self.beta = nn.Parameter(torch.randn(q))\n",
    "\n",
    "    def forward(self, residuals):\n",
    "        T = residuals.shape[0]\n",
    "        sigma2 = torch.zeros(T)\n",
    "\n",
    "        for t in range(max(self.p, self.q), T):\n",
    "            arch_term = torch.sum(self.alpha * residuals[t-self.p:t]**2)\n",
    "            garch_term = torch.sum(self.beta * sigma2[t-self.q:t])\n",
    "            sigma2[t] = self.omega + arch_term + garch_term\n",
    "\n",
    "        return sigma2"
   ]
  },
  {
   "cell_type": "code",
   "execution_count": null,
   "id": "61c95318",
   "metadata": {},
   "outputs": [],
   "source": []
  }
 ],
 "metadata": {
  "kernelspec": {
   "display_name": "Python 3 (ipykernel)",
   "language": "python",
   "name": "python3"
  },
  "language_info": {
   "codemirror_mode": {
    "name": "ipython",
    "version": 3
   },
   "file_extension": ".py",
   "mimetype": "text/x-python",
   "name": "python",
   "nbconvert_exporter": "python",
   "pygments_lexer": "ipython3",
   "version": "3.9.7"
  }
 },
 "nbformat": 4,
 "nbformat_minor": 5
}
