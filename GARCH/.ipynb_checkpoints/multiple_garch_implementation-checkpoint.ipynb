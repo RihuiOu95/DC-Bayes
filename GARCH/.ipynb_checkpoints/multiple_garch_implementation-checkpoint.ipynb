{
 "cells": [
  {
   "cell_type": "code",
   "execution_count": 1,
   "id": "16437aed",
   "metadata": {},
   "outputs": [],
   "source": [
    "# Calling libraries:\n",
    "from __future__ import division\n",
    "%matplotlib inline\n",
    "import numpy as np, time, matplotlib.pyplot as plt, math, pandas, numpy.random as npr, pystan as ps, pickle\n",
    "from pylab import plot, show, legend\n",
    "from functions_garch import *"
   ]
  },
  {
   "cell_type": "code",
   "execution_count": 2,
   "id": "0d4ae309",
   "metadata": {},
   "outputs": [],
   "source": [
    "file = open(\"full_mcmc.pkl\", \"rb\")\n",
    "trace_full = pickle.load(file)\n",
    "# record the shape"
   ]
  },
  {
   "cell_type": "code",
   "execution_count": null,
   "id": "78d67dde",
   "metadata": {},
   "outputs": [],
   "source": []
  }
 ],
 "metadata": {
  "kernelspec": {
   "display_name": "Python 3 (ipykernel)",
   "language": "python",
   "name": "python3"
  },
  "language_info": {
   "codemirror_mode": {
    "name": "ipython",
    "version": 3
   },
   "file_extension": ".py",
   "mimetype": "text/x-python",
   "name": "python",
   "nbconvert_exporter": "python",
   "pygments_lexer": "ipython3",
   "version": "3.9.7"
  }
 },
 "nbformat": 4,
 "nbformat_minor": 5
}
