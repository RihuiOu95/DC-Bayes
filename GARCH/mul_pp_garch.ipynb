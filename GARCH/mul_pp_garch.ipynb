{
 "cells": [
  {
   "cell_type": "code",
   "execution_count": 1,
   "id": "82066201",
   "metadata": {},
   "outputs": [],
   "source": [
    "# Calling libraries:\n",
    "from __future__ import division\n",
    "%matplotlib inline\n",
    "import numpy as np, time, matplotlib.pyplot as plt, math, pandas, numpy.random as npr, pystan as ps, pickle\n",
    "from pylab import plot, show, legend\n",
    "from functions_garch import *\n",
    "from scipy.stats import *\n",
    "import arviz as az\n",
    "import json"
   ]
  },
  {
   "cell_type": "code",
   "execution_count": 3,
   "id": "aedaa326",
   "metadata": {},
   "outputs": [],
   "source": [
    "rescales = [2.0, 3.0, 5.0]\n",
    "rescale = 2.0\n",
    "n_exp = len(rescales)\n",
    "path = 'multiple_sims/'+str(rescale)\n",
    "\n",
    "#\n",
    "file = open(path+\"/full_mcmc.pkl\", \"rb\")\n",
    "trace_full = pickle.load(file)\n",
    "\n",
    "# read the shape, etc\n",
    "m = 10\n",
    "n_mcmc, p = np.shape(trace_full['beta'])\n",
    "q = np.shape(trace_full['alpha'])[1]\n",
    "d = np.shape(trace_full['b'])[1]"
   ]
  },
  {
   "cell_type": "code",
   "execution_count": 7,
   "id": "d2c5c495",
   "metadata": {},
   "outputs": [],
   "source": [
    "p, q, d\n",
    "# p --> beta\n",
    "# q -- > alpha\n",
    "# d --> b\n",
    "var_names = ['beta', 'alpha', 'b', 'omega']"
   ]
  },
  {
   "cell_type": "code",
   "execution_count": 21,
   "id": "de91a2a6",
   "metadata": {},
   "outputs": [],
   "source": [
    "def cred_ints_dc(quantiles, path):\n",
    "    n_q = len(quantiles)\n",
    "    quant_dc = {}\n",
    "    quant_dc['beta'] = np.zeros((n_q, p))\n",
    "    quant_dc['alpha'] = np.zeros((n_q, q))\n",
    "    quant_dc['b'] = np.zeros((n_q, d))\n",
    "    quant_dc['omega'] = np.zeros((n_q))\n",
    "    for i in range(m):\n",
    "        file = open(path+\"/mcmc_wb_chunk\"+str(i+1)+\".pkl\", \"rb\")\n",
    "        trace = pickle.load(file)\n",
    "        for var_name in var_names:\n",
    "            #print(var_name)\n",
    "            quant_dc[var_name] += np.percentile(trace[var_name],axis=0,q=quantiles)/m\n",
    "            \n",
    "    return quant_dc\n",
    "\n",
    "def cred_ints_full(quantiles, path):\n",
    "    n_q = len(quantiles)\n",
    "    quant_full = {}\n",
    "    quant_full['beta'] = np.zeros((n_q, p))\n",
    "    quant_full['alpha'] = np.zeros((n_q, q))\n",
    "    quant_full['b'] = np.zeros((n_q, d))\n",
    "    quant_full['omega'] = np.zeros((n_q))\n",
    "    file = open(path+\"/full_mcmc.pkl\", \"rb\")\n",
    "    trace = pickle.load(file)\n",
    "    for var_name in var_names:\n",
    "        quant_full[var_name] = np.percentile(trace[var_name],axis=0,q=quantiles)\n",
    "        \n",
    "    return quant_full"
   ]
  },
  {
   "cell_type": "code",
   "execution_count": 34,
   "id": "b0bc6817",
   "metadata": {},
   "outputs": [],
   "source": [
    "results = {}\n",
    "quantiles = np.arange(0.1, 1.0, 0.1)\n",
    "for rescale in rescales:\n",
    "    path = 'multiple_sims/'+str(rescale)\n",
    "    rescale_str = str(rescale)\n",
    "    results[rescale] = {}\n",
    "    results[rescale]['full'] = cred_ints_full(quantiles, path)\n",
    "    results[rescale]['dc'] =  cred_ints_dc(quantiles, path)\n",
    "    # calculate the errors\n",
    "    error = {}\n",
    "    for var_name in var_names:\n",
    "        error[var_name] = np.absolute(results[rescale]['dc'][var_name] - results[rescale]['full'][var_name])\n",
    "    results[rescale]['error'] = error"
   ]
  },
  {
   "cell_type": "code",
   "execution_count": 39,
   "id": "039accc3",
   "metadata": {},
   "outputs": [
    {
     "data": {
      "image/png": "[encoded data removed]",
      "text/plain": [
       "<Figure size 432x288 with 1 Axes>"
      ]
     },
     "metadata": {
      "needs_background": "light"
     },
     "output_type": "display_data"
    }
   ],
   "source": [
    "# Plotting the line chart\n",
    "plt.plot(quantiles, np.mean(results[2.0]['error']['alpha'], axis =1), label='rescale=2.0')\n",
    "plt.plot(quantiles, np.mean(results[3.0]['error']['alpha'], axis =1), label='rescale=3.0')\n",
    "plt.plot(quantiles, np.mean(results[5.0]['error']['alpha'], axis =1), label='rescale=5.0')\n",
    "\n",
    "# Adding labels and title\n",
    "plt.xlabel('Quantiles')\n",
    "plt.ylabel('Error')\n",
    "plt.title('Error vs Quantiles')\n",
    "\n",
    "# Adding a legend\n",
    "plt.legend()\n",
    "\n",
    "# Displaying the chart\n",
    "plt.show()"
   ]
  },
  {
   "cell_type": "code",
   "execution_count": 31,
   "id": "33e3e643",
   "metadata": {},
   "outputs": [
    {
     "name": "stdout",
     "output_type": "stream",
     "text": [
      "{(4, 6), (5, 7), (1, 2, 3, 4), (1, 3), (3, 4, 7), (3, 4, 5, 6), (5, 6, 7), (2, 3, 4, 5), (1, 2, 4, 5), (1, 2, 7), (2, 4), (3, 4, 6, 7), (2, 3, 5, 6), (2, 3, 6, 7), (1, 2, 5, 6), (3, 5), (6,), (4, 5, 7), (2, 3, 7), (4, 5, 6, 7), (1, 2, 6, 7)}\n"
     ]
    },
    {
     "data": {
      "text/plain": [
       "21"
      ]
     },
     "execution_count": 31,
     "metadata": {},
     "output_type": "execute_result"
    }
   ],
   "source": [
    "alls = set()\n",
    "n = 7\n",
    "for i in range(1, n+1):\n",
    "    lst = set()\n",
    "    lst.add(i)\n",
    "    if i+1 <= n:\n",
    "        lst.add(i+1)\n",
    "    for j in range(1, n+1):\n",
    "        lst_copy = lst.copy()\n",
    "        if j in lst_copy:\n",
    "            continue\n",
    "        lst_copy.add(j)\n",
    "        if j+1 in lst_copy:\n",
    "            lst_copy.remove(j+1)\n",
    "        elif j+1 <= n:\n",
    "            lst_copy.add(j+1)\n",
    "        alls.add(tuple(sorted(lst_copy)))\n",
    "print(alls)\n",
    "len(alls)"
   ]
  },
  {
   "cell_type": "code",
   "execution_count": 26,
   "id": "b81a1927",
   "metadata": {},
   "outputs": [
    {
     "data": {
      "text/plain": [
       "[(1, 2, 3, 4), (1, 2, 4, 5), (2, 3, 4, 5)]"
      ]
     },
     "execution_count": 26,
     "metadata": {},
     "output_type": "execute_result"
    }
   ],
   "source": [
    "sorted([all for all in alls if len(all) == 4])"
   ]
  },
  {
   "cell_type": "code",
   "execution_count": null,
   "id": "1d1dd25d",
   "metadata": {},
   "outputs": [],
   "source": []
  }
 ],
 "metadata": {
  "hide_input": false,
  "kernelspec": {
   "display_name": "Python 3 (ipykernel)",
   "language": "python",
   "name": "python3"
  },
  "language_info": {
   "codemirror_mode": {
    "name": "ipython",
    "version": 3
   },
   "file_extension": ".py",
   "mimetype": "text/x-python",
   "name": "python",
   "nbconvert_exporter": "python",
   "pygments_lexer": "ipython3",
   "version": "3.9.7"
  }
 },
 "nbformat": 4,
 "nbformat_minor": 5
}
