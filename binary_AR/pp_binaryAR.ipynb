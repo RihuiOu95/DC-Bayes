{
 "cells": [
  {
   "cell_type": "code",
   "execution_count": 12,
   "metadata": {},
   "outputs": [],
   "source": [
    "# Calling libraries:\n",
    "from __future__ import division\n",
    "%matplotlib inline\n",
    "import numpy as np, time, matplotlib.pyplot as plt, numpy.random as npr, pystan as ps, pickle\n",
    "from pylab import plot, show, legend\n",
    "from time import time\n",
    "from scipy.stats import *\n",
    "from tqdm import trange\n",
    "from functions import *\n",
    "import arviz as az\n",
    "import json"
   ]
  },
  {
   "cell_type": "code",
   "execution_count": 13,
   "metadata": {},
   "outputs": [],
   "source": [
    "file = open(\"full_mcmc.pkl\", \"rb\")\n",
    "trace_full = pickle.load(file)"
   ]
  },
  {
   "cell_type": "code",
   "execution_count": 14,
   "metadata": {},
   "outputs": [],
   "source": [
    "m = 10\n",
    "n_mcmc, p = np.shape(trace_full['alpha'])\n",
    "q = np.shape(trace_full['b'])[1]"
   ]
  },
  {
   "cell_type": "code",
   "execution_count": 15,
   "metadata": {},
   "outputs": [
    {
     "data": {
      "text/plain": [
       "(5, 5)"
      ]
     },
     "execution_count": 15,
     "metadata": {},
     "output_type": "execute_result"
    }
   ],
   "source": [
    "p, q"
   ]
  },
  {
   "cell_type": "code",
   "execution_count": 5,
   "metadata": {},
   "outputs": [],
   "source": [
    "samples = np.zeros((m,n_mcmc,p+q+1))\n",
    "mle = np.zeros((m,p+q+1))\n",
    "for i in range(m) :\n",
    "    file = open(\"mcmc_wb_chunk\"+str(i+1)+\".pkl\", \"rb\")\n",
    "    trace_dc = pickle.load(file)\n",
    "    samples[i,:,0:p] = trace_dc['alpha']\n",
    "    samples[i,:,p:(p+q)] = trace_dc['b']\n",
    "    samples[i,:,(p+q):(p+q+1)] = np.reshape(trace_dc['c'], [n_mcmc,1])\n",
    "    \n",
    "    file = open(\"mle_chunk\"+str(i+1)+\".pkl\", \"rb\")\n",
    "    mle_dc = pickle.load(file)\n",
    "    mle[i,0:p] = mle_dc['alpha']\n",
    "    mle[i,p:(p+q)] = mle_dc['b']\n",
    "    mle[i,(p+q):(p+q+1)] = mle_dc['c']"
   ]
  },
  {
   "cell_type": "code",
   "execution_count": 6,
   "metadata": {},
   "outputs": [
    {
     "name": "stderr",
     "output_type": "stream",
     "text": [
      "100%|██████████████████████████████████████| 500/500 [00:00<00:00, 22358.41it/s]\n"
     ]
    }
   ],
   "source": [
    "samples_combined = double_parallel_MC(samples, mle)\n",
    "dpMC_CI = np.percentile(np.reshape(samples_combined, [np.prod(np.shape(samples_combined)[0:2]),np.shape(samples_combined)[-1]]), \n",
    "                        q=[2.5,97.5], axis=0)\n",
    "alpha_ci_dpMC = dpMC_CI[:,0:p]\n",
    "b_ci_dpMC = dpMC_CI[:,p:(p+q)]\n",
    "c_ci_dpMC = dpMC_CI[:,(p+q):(p+q+1)]"
   ]
  },
  {
   "cell_type": "code",
   "execution_count": 7,
   "metadata": {},
   "outputs": [],
   "source": [
    "file = open(\"full_mcmc.pkl\", \"rb\")\n",
    "trace = pickle.load(file)\n",
    "c_ci_full = np.percentile(trace['c'],axis=0,q=[2.5,97.5])\n",
    "alpha_ci_full = np.percentile(trace['alpha'],axis=0,q=[2.5,97.5])\n",
    "b_ci_full = np.percentile(trace['b'],axis=0,q=[2.5,97.5])\n",
    "\n",
    "c_ci_dc = np.zeros(2)\n",
    "alpha_ci_dc = np.zeros((2,p))\n",
    "b_ci_dc = np.zeros((2,q))\n",
    "for i in range(m) :\n",
    "    file = open(\"mcmc_wb_chunk\"+str(i+1)+\".pkl\", \"rb\")\n",
    "    trace = pickle.load(file)\n",
    "    c_ci_dc += np.percentile(trace['c'],axis=0,q=[2.5,97.5])/m\n",
    "    alpha_ci_dc += np.percentile(trace['alpha'],axis=0,q=[2.5,97.5])/m\n",
    "    b_ci_dc += np.percentile(trace['b'],axis=0,q=[2.5,97.5])/m"
   ]
  },
  {
   "cell_type": "code",
   "execution_count": 8,
   "metadata": {},
   "outputs": [],
   "source": [
    "## temp\n",
    "def cred_ints_laplace(quantiles):\n",
    "    n_q = len(quantiles)\n",
    "    with open(\"laplace.json\") as f:\n",
    "        laplace = json.load(f)\n",
    "    modes, hessian = np.array(laplace['mode']), np.array(laplace['hessian'])\n",
    "    var_names = laplace['var_names']\n",
    "    stds = np.sqrt(np.diag(np.linalg.inv(-hessian)))\n",
    "    res = np.zeros((p+q+1, n_q))\n",
    "    i = 0\n",
    "    for mode, std in zip(modes, stds):\n",
    "        res[i,:] = norm.ppf(np.array(quantiles) / 100, loc=mode, scale=std)\n",
    "        i += 1\n",
    "    res = res.T\n",
    "    return (res[:,:p], res[:,p], res[:,(p+1):])"
   ]
  },
  {
   "cell_type": "code",
   "execution_count": 9,
   "metadata": {},
   "outputs": [],
   "source": [
    "def cred_ints_vb(quantiles):\n",
    "    n_q = len(quantiles)\n",
    "    with open(\"vb.json\") as f:\n",
    "        vb = json.load(f)\n",
    "    res = {}\n",
    "    res['alpha'] = np.percentile(np.array(vb['alpha']), axis=0, q=quantiles)\n",
    "    res['c'] = np.percentile(np.array(vb['c']), axis=0, q=quantiles)\n",
    "    res['b'] = np.percentile(np.array(vb['b']), axis=0, q=quantiles)\n",
    "    return res['alpha'], res['c'], res['b']"
   ]
  },
  {
   "cell_type": "code",
   "execution_count": 10,
   "metadata": {},
   "outputs": [],
   "source": [
    "# laplace's approximation\n",
    "alpha_ci_lap, c_ci_lap, b_ci_lap = cred_ints_laplace([2.5, 97.5])\n",
    "alpha_ci_vb, c_ci_vb, b_ci_vb = cred_ints_vb([2.5, 97.5])"
   ]
  },
  {
   "cell_type": "code",
   "execution_count": 16,
   "metadata": {},
   "outputs": [
    {
     "data": {
      "image/png": "[encoded data removed]",
      "text/plain": [
       "<Figure size 864x432 with 3 Axes>"
      ]
     },
     "metadata": {
      "needs_background": "light"
     },
     "output_type": "display_data"
    }
   ],
   "source": [
    "import matplotlib as mpl\n",
    "\n",
    "mpl.rcParams['lines.linewidth'] = 3\n",
    "plt.rcParams['axes.grid'] = True\n",
    "\n",
    "f, (a0, a1, a2) = plt.subplots(1, 3, gridspec_kw={'width_ratios': [1, p, q]}, figsize=(12,6))\n",
    "\n",
    "# a0.plot(1, c, \"ro\")\n",
    "a0.plot([0.8,0.8], c_ci_dc, \"b-\")\n",
    "a0.plot([1.2,1.2], c_ci_full, \"g-\")\n",
    "a0.plot([1,1], c_ci_dpMC, \"r-\")\n",
    "a0.plot([1.4,1.4], c_ci_lap, 'k-')\n",
    "a0.axis(xmin=0,xmax=2)\n",
    "\n",
    "# a1.plot(np.arange(1,p+1), alph, \"ro\")\n",
    "for i in range(p) :\n",
    "    a1.plot([i+0.8,i+0.8], alpha_ci_dc[:,i], \"b-\")\n",
    "    a1.plot([i+0.9,i+0.9], alpha_ci_full[:,i], \"g-\")\n",
    "    a1.plot([i+1,i+1], alpha_ci_dpMC[:,i], \"r-\")\n",
    "    a1.plot([i+1.1, i+1.1], alpha_ci_lap[:,i], \"k-\")\n",
    "    a1.plot([i+1.2, i+1.2], alpha_ci_vb[:,i], \"m-\")\n",
    "    \n",
    "\n",
    "# a2.plot(np.arange(1,q+1), b, \"ro\")\n",
    "for i in range(q) :\n",
    "    if i < (q-1) :\n",
    "        a2.plot([i+0.9,i+0.9], b_ci_dc[:,i], \"b-\")\n",
    "        a2.plot([i+1.1,i+1.1], b_ci_full[:,i], \"g-\")\n",
    "        a2.plot([i+1,i+1], b_ci_dpMC[:,i], \"r-\")\n",
    "        a2.plot([i+1.2,i+1.2], b_ci_lap[:,i], \"k-\")\n",
    "        a2.plot([i+1.3, i+1.3], b_ci_vb[:,i], \"m-\")\n",
    "    if i == (q-1) :\n",
    "        a2.plot([i+0.9,i+0.9], b_ci_dc[:,i], \"b-\", label=\"Wasserstein barycenter\")\n",
    "        a2.plot([i+1.1,i+1.1], b_ci_full[:,i], \"g-\", label=\"MCMC on full data\")\n",
    "        a2.plot([i+1,i+1], b_ci_full[:,i], \"r-\", label=\"Double parallel Monte Carlo\")\n",
    "        a2.plot([i+1.2,i+1.2], b_ci_lap[:,i], \"k-\", label=\"Laplace's approximation\")\n",
    "        a2.plot([i+1.3,i+1.3], b_ci_lap[:,i], \"m-\", label=\"ADVI\")\n",
    "\n",
    "cap_height = 0.65\n",
    "plt.text(x=-6.0, y=cap_height, s=r\"$c$\", fontsize=13)\n",
    "plt.text(x=-2.5, y=cap_height, s=r\"$\\alpha$\", fontsize=13)\n",
    "plt.text(x=3.0, y=cap_height, s=r\"$b$\", fontsize=13)\n",
    "plt.text(x=-6, y=cap_height+0.15, s=r\"Credible intervals\", fontsize=17)\n",
    "plt.legend(ncol=3, loc=(-0.5,1.1))\n",
    "f.savefig('binary_AR_CI.pdf', bbox_inches='tight', dpi=500)"
   ]
  },
  {
   "cell_type": "code",
   "execution_count": 16,
   "metadata": {},
   "outputs": [],
   "source": [
    "eff_samp_sizes = np.zeros((10, p+q+1))\n",
    "for i in range(m) :\n",
    "    file = open(\"mcmc_wb_chunk\"+str(i+1)+\".pkl\", \"rb\")\n",
    "    trace = pickle.load(file)\n",
    "    eff_samp_sizes[i,:p] = [az.ess(col) for col in trace['alpha'].T]\n",
    "    eff_samp_sizes[i,p:(p+q)] = [az.ess(col) for col in trace['b'].T]\n",
    "    eff_samp_sizes[i,p+q] = az.ess(trace['c'])"
   ]
  },
  {
   "cell_type": "code",
   "execution_count": 17,
   "metadata": {},
   "outputs": [
    {
     "data": {
      "image/png": "[encoded data removed]",
      "text/plain": [
       "<Figure size 864x576 with 1 Axes>"
      ]
     },
     "metadata": {
      "needs_background": "light"
     },
     "output_type": "display_data"
    }
   ],
   "source": [
    "xlabs = [r\"$\\alpha_\" + str(i+1) + \"$\"  for i in range(p)] + [r'$b_' + str(i+1) + '$' for i in range(q)] + ['c']\n",
    "fig = plt.figure(figsize=(12,8))\n",
    "plt.boxplot(eff_samp_sizes)\n",
    "plt.xticks(np.arange(1, 12), labels=xlabs)\n",
    "plt.title(\"Effective Sample Sizes\", fontsize=25)\n",
    "fig.savefig('binary_ar_ess.pdf', bbox_inches='tight', dpi=2000)\n",
    "plt.show()"
   ]
  },
  {
   "cell_type": "code",
   "execution_count": 22,
   "metadata": {},
   "outputs": [
    {
     "data": {
      "text/plain": [
       "['alpha_1',\n",
       " 'alpha_2',\n",
       " 'alpha_3',\n",
       " 'alpha_4',\n",
       " 'alpha_5',\n",
       " 'b_1',\n",
       " 'b_2',\n",
       " 'b_3',\n",
       " 'b_4',\n",
       " 'b_5',\n",
       " 'c']"
      ]
     },
     "execution_count": 22,
     "metadata": {},
     "output_type": "execute_result"
    }
   ],
   "source": []
  },
  {
   "cell_type": "code",
   "execution_count": null,
   "metadata": {},
   "outputs": [],
   "source": []
  }
 ],
 "metadata": {
  "hide_input": false,
  "kernelspec": {
   "display_name": "Python 3 (ipykernel)",
   "language": "python",
   "name": "python3"
  },
  "language_info": {
   "codemirror_mode": {
    "name": "ipython",
    "version": 3
   },
   "file_extension": ".py",
   "mimetype": "text/x-python",
   "name": "python",
   "nbconvert_exporter": "python",
   "pygments_lexer": "ipython3",
   "version": "3.9.7"
  }
 },
 "nbformat": 4,
 "nbformat_minor": 2
}
