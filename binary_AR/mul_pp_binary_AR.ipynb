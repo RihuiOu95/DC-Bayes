{
 "cells": [
  {
   "cell_type": "code",
   "execution_count": 9,
   "id": "7ff7ae81",
   "metadata": {},
   "outputs": [],
   "source": [
    "# Calling libraries:\n",
    "from __future__ import division\n",
    "%matplotlib inline\n",
    "import numpy as np, time, matplotlib.pyplot as plt, numpy.random as npr, pystan as ps, pickle\n",
    "from pylab import plot, show, legend\n",
    "from time import time\n",
    "from scipy.stats import *\n",
    "from tqdm import trange\n",
    "from functions import *\n",
    "import arviz as az\n",
    "from collections import defaultdict\n",
    "import json\n",
    "from scipy.stats import norm\n",
    "from scipy.stats import wasserstein_distance"
   ]
  },
  {
   "cell_type": "code",
   "execution_count": 10,
   "id": "cb67c4bd",
   "metadata": {},
   "outputs": [],
   "source": [
    "alph_entries = [0.05, 0.25, 0.5]\n",
    "alph_entry = 0.5\n",
    "n_exp = len(alph_entries)\n",
    "path = 'multiple_sims/'+str(alph_entry)"
   ]
  },
  {
   "cell_type": "code",
   "execution_count": 11,
   "id": "0e2a5992",
   "metadata": {},
   "outputs": [],
   "source": [
    "file = open(path+\"/full_mcmc.pkl\", \"rb\")\n",
    "trace_full = pickle.load(file)\n",
    "m = 10\n",
    "n_mcmc, p = np.shape(trace_full['alpha'])\n",
    "q = np.shape(trace_full['b'])[1]"
   ]
  },
  {
   "cell_type": "code",
   "execution_count": 12,
   "id": "d3054332",
   "metadata": {},
   "outputs": [
    {
     "data": {
      "text/plain": [
       "(500, 5, 5)"
      ]
     },
     "execution_count": 12,
     "metadata": {},
     "output_type": "execute_result"
    }
   ],
   "source": [
    "n_mcmc, p, q"
   ]
  },
  {
   "cell_type": "code",
   "execution_count": 13,
   "id": "2a282bd4",
   "metadata": {},
   "outputs": [],
   "source": [
    "def cred_ints_dc(quantiles, path):\n",
    "    n_q = len(quantiles)\n",
    "    quant_dc = {}\n",
    "    quant_dc['alpha'] = np.zeros((n_q, p))\n",
    "    quant_dc['b'] = np.zeros((n_q, q))\n",
    "    quant_dc['c'] = np.zeros(n_q)    \n",
    "    for i in range(m):\n",
    "        file = open(path+\"/mcmc_wb_chunk\"+str(i+1)+\".pkl\", \"rb\")\n",
    "        trace = pickle.load(file)\n",
    "        for var_name in ['alpha','b','c']:\n",
    "            quant_dc[var_name] += np.percentile(trace[var_name],axis=0,q=quantiles)/m\n",
    "            \n",
    "    return quant_dc\n",
    "\n",
    "def cred_ints_full(quantiles, path):\n",
    "    n_q = len(quantiles)\n",
    "    quant_full = {}\n",
    "    quant_full['alpha'] = np.zeros((n_q, p))\n",
    "    quant_full['b'] = np.zeros((n_q, q))\n",
    "    quant_full['c'] = np.zeros(n_q)\n",
    "    file = open(path+\"/full_mcmc.pkl\", \"rb\")\n",
    "    trace = pickle.load(file)\n",
    "    for var_name in ['alpha', 'b', 'c']:\n",
    "        quant_full[var_name] = np.percentile(trace[var_name],axis=0,q=quantiles)\n",
    "        \n",
    "    return quant_full\n",
    "\n",
    "def cred_ints_laplace(quantiles):\n",
    "    n_q = len(quantiles)\n",
    "    with open(\"laplace.json\") as f:\n",
    "        laplace = json.load(f)\n",
    "    mode, hessian = np.array(laplace['mode']), np.array(laplace['hessian'])\n",
    "    var_names = laplace['var_names']\n",
    "    stds = np.sqrt(np.diag(np.linalg.inv(-hessian)))\n",
    "    res = np.zeros((p+q+1, n_q))\n",
    "    i = 0\n",
    "    for mode, std in zip(modes, stds):\n",
    "        res[i,:] = norm.ppf(np.array(quantiles) / 100, loc=mode, scale=std)\n",
    "        i += 1\n",
    "    return (res[:p], res[p], res[(p+1):])"
   ]
  },
  {
   "cell_type": "code",
   "execution_count": 14,
   "id": "78f7131f",
   "metadata": {},
   "outputs": [],
   "source": [
    "n_exp = len(alph_entries)\n",
    "results = {}\n",
    "quantiles = np.arange(0.1, 1.0, 0.1)\n",
    "for alph_entry in alph_entries:\n",
    "    path = 'multiple_sims/'+str(alph_entry)\n",
    "    alph_str = str(alph_entry)\n",
    "    results[alph_str] = {}\n",
    "    results[alph_str]['full'] = cred_ints_full(quantiles, path)\n",
    "    results[alph_str]['dc'] =  cred_ints_dc(quantiles, path)\n",
    "    # calculate the errors\n",
    "    error = {}\n",
    "    for var_name in ['alpha', 'b', 'c']:\n",
    "        error[var_name] = np.absolute(results[alph_str]['dc'][var_name] - results[alph_str]['full'][var_name])\n",
    "    results[alph_str]['error'] = error\n",
    "        "
   ]
  },
  {
   "cell_type": "code",
   "execution_count": 22,
   "id": "944883af",
   "metadata": {},
   "outputs": [
    {
     "data": {
      "image/png": "[encoded data removed]",
      "text/plain": [
       "<Figure size 432x288 with 1 Axes>"
      ]
     },
     "metadata": {
      "needs_background": "light"
     },
     "output_type": "display_data"
    }
   ],
   "source": [
    "# Plotting the line chart\n",
    "plt.plot(quantiles, np.sum(results['0.5']['error']['alpha'], axis =1), label='alph=0.5')\n",
    "plt.plot(quantiles, np.sum(results['0.25']['error']['alpha'], axis =1), label='alph=0.25')\n",
    "plt.plot(quantiles, np.sum(results['0.05']['error']['alpha'], axis =1), label='alph=0.05')\n",
    "\n",
    "# Adding labels and title\n",
    "plt.xlabel('Quantiles')\n",
    "plt.ylabel('Error')\n",
    "plt.title('Error vs Quantiles')\n",
    "\n",
    "# Adding a legend\n",
    "plt.legend()\n",
    "\n",
    "# Displaying the chart\n",
    "plt.show()"
   ]
  },
  {
   "cell_type": "code",
   "execution_count": null,
   "id": "51026ca4",
   "metadata": {},
   "outputs": [],
   "source": []
  }
 ],
 "metadata": {
  "hide_input": false,
  "kernelspec": {
   "display_name": "Python 3 (ipykernel)",
   "language": "python",
   "name": "python3"
  },
  "language_info": {
   "codemirror_mode": {
    "name": "ipython",
    "version": 3
   },
   "file_extension": ".py",
   "mimetype": "text/x-python",
   "name": "python",
   "nbconvert_exporter": "python",
   "pygments_lexer": "ipython3",
   "version": "3.9.7"
  }
 },
 "nbformat": 4,
 "nbformat_minor": 5
}
