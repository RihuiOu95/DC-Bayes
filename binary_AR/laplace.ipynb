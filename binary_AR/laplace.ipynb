{
 "cells": [
  {
   "cell_type": "code",
   "execution_count": 206,
   "id": "df636429",
   "metadata": {},
   "outputs": [],
   "source": [
    "from torch.autograd.functional import hessian\n",
    "import torch.nn as nn\n",
    "import torch.optim as optim\n",
    "import matplotlib.pyplot as plt\n",
    "import numpy as np"
   ]
  },
  {
   "cell_type": "code",
   "execution_count": 207,
   "id": "be1b7fe4",
   "metadata": {},
   "outputs": [],
   "source": [
    "class LinearRegression(nn.Module):\n",
    "    def __init__(self, input_dim):\n",
    "        super(LinearRegression, self).__init__()\n",
    "        self.linear = nn.Linear(input_dim, 1)\n",
    "\n",
    "    def forward(self, x):\n",
    "        return self.linear(x)"
   ]
  },
  {
   "cell_type": "code",
   "execution_count": 208,
   "id": "f17423fb",
   "metadata": {},
   "outputs": [],
   "source": [
    "def neg_log_likelihood(y_pred, y, log_sigma):\n",
    "    sigma = torch.exp(log_sigma)\n",
    "    return torch.sum((y_pred - y)**2 / (2 * sigma**2) + log_sigma + 0.5 * torch.log(2 * torch.tensor(np.pi)))"
   ]
  },
  {
   "cell_type": "code",
   "execution_count": 209,
   "id": "a5362bc7",
   "metadata": {},
   "outputs": [],
   "source": [
    "# Generate synthetic data\n",
    "n = 1000\n",
    "X = np.random.rand(n, 1)\n",
    "Y =  3 * X  + 1.0 * np.random.randn(n, 1)\n",
    "\n",
    "# Convert to PyTorch tensors\n",
    "X_torch = torch.tensor(X, dtype=torch.float32)\n",
    "Y_torch = torch.tensor(Y, dtype=torch.float32)"
   ]
  },
  {
   "cell_type": "code",
   "execution_count": 210,
   "id": "e3745eeb",
   "metadata": {},
   "outputs": [],
   "source": [
    "input_dim = 1\n",
    "learning_rate = 0.01\n",
    "num_epochs = 3000\n",
    "\n",
    "model = LinearRegression(input_dim)\n",
    "log_sigma = torch.tensor(0.0, requires_grad=True)\n",
    "optimizer = optim.Adam([{'params': model.parameters()}, {'params': [log_sigma]}], lr=learning_rate)"
   ]
  },
  {
   "cell_type": "code",
   "execution_count": 211,
   "id": "ae60c077",
   "metadata": {},
   "outputs": [
    {
     "name": "stdout",
     "output_type": "stream",
     "text": [
      "Epoch: 500, Loss: 1500.0025634765625\n",
      "Epoch: 1000, Loss: 1457.915771484375\n",
      "Epoch: 1500, Loss: 1456.65185546875\n",
      "Epoch: 2000, Loss: 1456.647216796875\n",
      "Epoch: 2500, Loss: 1456.6473388671875\n",
      "Epoch: 3000, Loss: 1456.647216796875\n"
     ]
    }
   ],
   "source": [
    "for epoch in range(num_epochs):\n",
    "    optimizer.zero_grad()\n",
    "\n",
    "    # Forward pass\n",
    "    Y_pred = model(X_torch)\n",
    "\n",
    "    # Compute the negative log-likelihood\n",
    "    loss = neg_log_likelihood(Y_pred, Y_torch, log_sigma)\n",
    "\n",
    "    # Backward pass\n",
    "    loss.backward()\n",
    "\n",
    "    # Update the parameters\n",
    "    optimizer.step()\n",
    "\n",
    "    if (epoch+1) % 500 == 0:\n",
    "        print(f'Epoch: {epoch+1}, Loss: {loss.item()}')\n"
   ]
  },
  {
   "cell_type": "code",
   "execution_count": 212,
   "id": "ed5def1e",
   "metadata": {},
   "outputs": [
    {
     "name": "stdout",
     "output_type": "stream",
     "text": [
      "Estimated parameters: w = [[2.813105]], b = [0.13518801], sigma = 1.0384286642074585\n"
     ]
    }
   ],
   "source": [
    "w, b = model.linear.weight.detach().numpy(), model.linear.bias.detach().numpy()\n",
    "estimated_sigma = torch.exp(log_sigma).detach().numpy()\n",
    "print(f'Estimated parameters: w = {w}, b = {b}, sigma = {estimated_sigma}')"
   ]
  },
  {
   "cell_type": "code",
   "execution_count": 213,
   "id": "7c1afb03",
   "metadata": {},
   "outputs": [],
   "source": [
    "from torch.autograd import grad"
   ]
  },
  {
   "cell_type": "code",
   "execution_count": 221,
   "id": "2c433712",
   "metadata": {},
   "outputs": [],
   "source": [
    "w = torch.tensor([[3.0]], dtype=torch.float32)\n",
    "b =  torch.tensor([0.0], dtype=torch.float32)\n",
    "w.requires_grad = True\n",
    "b.requires_grad = True"
   ]
  },
  {
   "cell_type": "code",
   "execution_count": 230,
   "id": "9087ba91",
   "metadata": {},
   "outputs": [],
   "source": [
    "def neg_ll_hessian(w, b, log_sigma):\n",
    "    #new_mdl = LinearRegression(input_dim)\n",
    "    #new_mdl.linear.weight.data = w\n",
    "    #new_mdl.linear.bias.data = b\n",
    "    #Y_pred = new_mdl(X_torch)\n",
    "    Y_pred = X_torch * w + b\n",
    "    return neg_log_likelihood(Y_pred, Y_torch, log_sigma)"
   ]
  },
  {
   "cell_type": "code",
   "execution_count": 231,
   "id": "c5f07254",
   "metadata": {},
   "outputs": [
    {
     "data": {
      "text/plain": [
       "tensor(1458.6542, grad_fn=<SumBackward0>)"
      ]
     },
     "execution_count": 231,
     "metadata": {},
     "output_type": "execute_result"
    }
   ],
   "source": [
    "neg_ll_hessian(w, b, log_sigma)"
   ]
  },
  {
   "cell_type": "code",
   "execution_count": 232,
   "id": "7bba36e7",
   "metadata": {},
   "outputs": [
    {
     "data": {
      "text/plain": [
       "((tensor([[[[223.8602]]]]), tensor([[[330.2464]]]), tensor([[-1704.2228]])),\n",
       " (tensor([[[330.2464]]]), tensor([[635.8584]]), tensor([-3663.2722])),\n",
       " (tensor([[-1704.2230]]), tensor([-3663.2722]), tensor(12299.5908)))"
      ]
     },
     "execution_count": 232,
     "metadata": {},
     "output_type": "execute_result"
    }
   ],
   "source": [
    "hessian(neg_ll_hessian, params)"
   ]
  },
  {
   "cell_type": "code",
   "execution_count": null,
   "id": "5e451cfb",
   "metadata": {},
   "outputs": [],
   "source": []
  }
 ],
 "metadata": {
  "kernelspec": {
   "display_name": "Python 3 (ipykernel)",
   "language": "python",
   "name": "python3"
  },
  "language_info": {
   "codemirror_mode": {
    "name": "ipython",
    "version": 3
   },
   "file_extension": ".py",
   "mimetype": "text/x-python",
   "name": "python",
   "nbconvert_exporter": "python",
   "pygments_lexer": "ipython3",
   "version": "3.9.7"
  }
 },
 "nbformat": 4,
 "nbformat_minor": 5
}
